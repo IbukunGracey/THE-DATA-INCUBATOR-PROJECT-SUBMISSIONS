{
 "cells": [
  {
   "cell_type": "markdown",
   "metadata": {},
   "source": [
    "### PROPOSED CAPSTONE PROJECT -THE DATA INCUBATOR\n",
    "#### NAME: Grace I. Ufeoshi\n",
    "#### PROJECT TITLE: Corporate Road-map for Corporations to be listed as part of JUST Capital Top 100\n",
    "\n",
    "###### BACKGROUND\n",
    "*JUST Capital is a nonprofit that provides information and rankings on how large corporations perform on issues that matter most to the public. They help people, companies, and markets do the right thing by tracking the business behaviors Americans care most about. They give individuals a voice on what really matters to them and evaluate how companies perform on those issues. By providing the right knowledge and making it easy to access and understand, JUST capital believes capital will flow to corporations that are more JUST, ultimately leading to a balanced business world that considers human needs that are so often neglected today. The meaning of JUST is defined by the American public as fair, equitable and balanced.\n",
    "In 2016, JUST Capital surveyed nearly 4,000 Americans from all regions and walks of life, in its second annual Poll on Corporate America. The issues identified by the public form the basis of her benchmark — it is against these Drivers and Components that corporate performance is measured. The most important factors broadly relate to employees, customers, company leadership, the environment, communities and investors.\n",
    "JUST Capital assessed and ranked 897 of the largest publicly-traded companies in America. Out of these, there are 100 corporation ranked as the Top 100. I will be analyzing the top half of the 897 companies in order to identify viable trends.*\n",
    "\n",
    "###### MOTIVATION\n",
    "To build a more Just marketplace, assist more companies climb up the Just 100 rating ladder, and to establish more just processes, systems and cultures, I propose to develop a model that helps companies establish the top three components that should be improve upon, and what impact these components will have on their just ranking.\n",
    "Furthermore, this will help ccompanies to be able to know where they stand as regards their ranking.\n",
    "\n",
    "##### ANALYSIS TO BE PERFORMED\n",
    "1.\tFrom a corporation’s perspective, i want to identify what actions companies can take to have the greatest impact on JUST Score, Rank and Inclusion in the JUST 100.  \n",
    "2.\tWhat are the top three components a company should improve upon, in each industry, to have the greatest impact on their JUST ranking.\n",
    "3.\tBy industry, what factors drive the differences between companies?\n",
    "4.\tTo identify the effect of the top three component on companies not ranked in the JUST 100. Will these components improve their JUST Score and Rank? By how many percent?\n",
    "5.\tTo identify why the industry not included in the JUST 100 have low ranking, what should be focused on and what not?\n",
    "6.\tTo predict which companies will be in the JUST 100 in subsequent years based on the trend identified from previous years and the components they improve on.\n",
    "\n",
    "##### Further work\n",
    "1. Futher analysis will be carried out predict which companies will be in the JUST 100 in subsequent years based on the trend identified from previous years and the components they improve on.\n",
    "\n",
    "###### Data Sources\n",
    "1. JUST CAPITAL corporate performance scores: https://justcapital.com/s/COMPANY_SCORES_TOP_HALF.xlsx\n",
    "2. Metric Legend: This document provides an overview of the ranking mode performance indicators or metrics. Metric codes, used in subsequent projects, as well as metric definitions, can be found within this document. https://justcapital.com/s/metrics_table.xlsx\n",
    "3. Just Capital Companies Data: https://justcapital.com/s/COMPANY_DATA.xlsx\n"
   ]
  },
  {
   "cell_type": "markdown",
   "metadata": {},
   "source": [
    "### Exploratory Data Analysis and Results"
   ]
  },
  {
   "cell_type": "code",
   "execution_count": 73,
   "metadata": {},
   "outputs": [],
   "source": [
    "import pandas as pd\n",
    "import matplotlib.pyplot as plt\n",
    "import seaborn as sns\n",
    "sns.set()\n",
    "%matplotlib inline"
   ]
  },
  {
   "cell_type": "code",
   "execution_count": 17,
   "metadata": {},
   "outputs": [],
   "source": [
    "just400 = pd.read_excel(\"COMPANY_SCORES_TOP_HALF_NoPassword.xlsx\", sheet_name=\"Sheet1\")"
   ]
  },
  {
   "cell_type": "code",
   "execution_count": 24,
   "metadata": {},
   "outputs": [
    {
     "data": {
      "text/html": [
       "<div>\n",
       "<style scoped>\n",
       "    .dataframe tbody tr th:only-of-type {\n",
       "        vertical-align: middle;\n",
       "    }\n",
       "\n",
       "    .dataframe tbody tr th {\n",
       "        vertical-align: top;\n",
       "    }\n",
       "\n",
       "    .dataframe thead th {\n",
       "        text-align: right;\n",
       "    }\n",
       "</style>\n",
       "<table border=\"1\" class=\"dataframe\">\n",
       "  <thead>\n",
       "    <tr style=\"text-align: right;\">\n",
       "      <th></th>\n",
       "      <th>id</th>\n",
       "      <th>JUST_IND</th>\n",
       "      <th>JUST_100</th>\n",
       "      <th>WGT_SCORE</th>\n",
       "      <th>PAY</th>\n",
       "      <th>TREAT</th>\n",
       "      <th>SUPPLY</th>\n",
       "      <th>COMM</th>\n",
       "      <th>JOBS</th>\n",
       "      <th>PROD</th>\n",
       "      <th>...</th>\n",
       "      <th>LEAD.INTEGRITY</th>\n",
       "      <th>LEAD.TRUTH</th>\n",
       "      <th>LEAD.TAX</th>\n",
       "      <th>LEAD.POLITICS</th>\n",
       "      <th>ENV.POLLUTION</th>\n",
       "      <th>ENV.MGMT</th>\n",
       "      <th>ENV.EFFICIENT</th>\n",
       "      <th>INVEST.ACCURATE</th>\n",
       "      <th>INVEST.PROFIT</th>\n",
       "      <th>INVEST.RETURN</th>\n",
       "    </tr>\n",
       "  </thead>\n",
       "  <tbody>\n",
       "    <tr>\n",
       "      <th>0</th>\n",
       "      <td>1</td>\n",
       "      <td>1</td>\n",
       "      <td>No</td>\n",
       "      <td>51.817449</td>\n",
       "      <td>62.264831</td>\n",
       "      <td>58.014902</td>\n",
       "      <td>59.868173</td>\n",
       "      <td>54.221668</td>\n",
       "      <td>103.931869</td>\n",
       "      <td>26.161618</td>\n",
       "      <td>...</td>\n",
       "      <td>70.922283</td>\n",
       "      <td>-93.676223</td>\n",
       "      <td>92.427544</td>\n",
       "      <td>79.633970</td>\n",
       "      <td>48.675674</td>\n",
       "      <td>54.653723</td>\n",
       "      <td>87.660818</td>\n",
       "      <td>35.348026</td>\n",
       "      <td>85.924506</td>\n",
       "      <td>61.828625</td>\n",
       "    </tr>\n",
       "    <tr>\n",
       "      <th>1</th>\n",
       "      <td>2</td>\n",
       "      <td>1</td>\n",
       "      <td>Yes</td>\n",
       "      <td>60.214518</td>\n",
       "      <td>64.066467</td>\n",
       "      <td>65.888751</td>\n",
       "      <td>62.777286</td>\n",
       "      <td>85.099846</td>\n",
       "      <td>34.345494</td>\n",
       "      <td>74.043539</td>\n",
       "      <td>...</td>\n",
       "      <td>47.569446</td>\n",
       "      <td>54.225771</td>\n",
       "      <td>73.799465</td>\n",
       "      <td>60.975544</td>\n",
       "      <td>46.513131</td>\n",
       "      <td>62.652554</td>\n",
       "      <td>81.376922</td>\n",
       "      <td>35.348026</td>\n",
       "      <td>46.837676</td>\n",
       "      <td>64.342789</td>\n",
       "    </tr>\n",
       "    <tr>\n",
       "      <th>2</th>\n",
       "      <td>5</td>\n",
       "      <td>1</td>\n",
       "      <td>No</td>\n",
       "      <td>50.084911</td>\n",
       "      <td>53.257429</td>\n",
       "      <td>62.476653</td>\n",
       "      <td>55.205684</td>\n",
       "      <td>56.946310</td>\n",
       "      <td>42.497728</td>\n",
       "      <td>75.957935</td>\n",
       "      <td>...</td>\n",
       "      <td>68.533617</td>\n",
       "      <td>54.225771</td>\n",
       "      <td>54.129631</td>\n",
       "      <td>69.755980</td>\n",
       "      <td>8.109127</td>\n",
       "      <td>13.349142</td>\n",
       "      <td>19.602621</td>\n",
       "      <td>35.348026</td>\n",
       "      <td>28.431830</td>\n",
       "      <td>58.634653</td>\n",
       "    </tr>\n",
       "    <tr>\n",
       "      <th>3</th>\n",
       "      <td>7</td>\n",
       "      <td>1</td>\n",
       "      <td>No</td>\n",
       "      <td>52.567243</td>\n",
       "      <td>47.376425</td>\n",
       "      <td>58.975030</td>\n",
       "      <td>46.857584</td>\n",
       "      <td>56.946310</td>\n",
       "      <td>50.000000</td>\n",
       "      <td>54.717232</td>\n",
       "      <td>...</td>\n",
       "      <td>32.293719</td>\n",
       "      <td>54.225771</td>\n",
       "      <td>59.415758</td>\n",
       "      <td>71.951089</td>\n",
       "      <td>43.630359</td>\n",
       "      <td>62.652554</td>\n",
       "      <td>48.207416</td>\n",
       "      <td>67.399219</td>\n",
       "      <td>48.599573</td>\n",
       "      <td>68.826147</td>\n",
       "    </tr>\n",
       "    <tr>\n",
       "      <th>4</th>\n",
       "      <td>9</td>\n",
       "      <td>1</td>\n",
       "      <td>No</td>\n",
       "      <td>50.798780</td>\n",
       "      <td>47.990529</td>\n",
       "      <td>53.692387</td>\n",
       "      <td>45.463432</td>\n",
       "      <td>37.310563</td>\n",
       "      <td>50.000000</td>\n",
       "      <td>33.423107</td>\n",
       "      <td>...</td>\n",
       "      <td>61.407710</td>\n",
       "      <td>54.225771</td>\n",
       "      <td>48.212212</td>\n",
       "      <td>50.000000</td>\n",
       "      <td>68.238392</td>\n",
       "      <td>44.911560</td>\n",
       "      <td>54.625216</td>\n",
       "      <td>67.399219</td>\n",
       "      <td>13.970277</td>\n",
       "      <td>87.256794</td>\n",
       "    </tr>\n",
       "  </tbody>\n",
       "</table>\n",
       "<p>5 rows × 50 columns</p>\n",
       "</div>"
      ],
      "text/plain": [
       "   id  JUST_IND JUST_100  WGT_SCORE        PAY      TREAT     SUPPLY  \\\n",
       "0   1         1       No  51.817449  62.264831  58.014902  59.868173   \n",
       "1   2         1      Yes  60.214518  64.066467  65.888751  62.777286   \n",
       "2   5         1       No  50.084911  53.257429  62.476653  55.205684   \n",
       "3   7         1       No  52.567243  47.376425  58.975030  46.857584   \n",
       "4   9         1       No  50.798780  47.990529  53.692387  45.463432   \n",
       "\n",
       "        COMM        JOBS       PROD      ...        LEAD.INTEGRITY  \\\n",
       "0  54.221668  103.931869  26.161618      ...             70.922283   \n",
       "1  85.099846   34.345494  74.043539      ...             47.569446   \n",
       "2  56.946310   42.497728  75.957935      ...             68.533617   \n",
       "3  56.946310   50.000000  54.717232      ...             32.293719   \n",
       "4  37.310563   50.000000  33.423107      ...             61.407710   \n",
       "\n",
       "   LEAD.TRUTH   LEAD.TAX  LEAD.POLITICS  ENV.POLLUTION   ENV.MGMT  \\\n",
       "0  -93.676223  92.427544      79.633970      48.675674  54.653723   \n",
       "1   54.225771  73.799465      60.975544      46.513131  62.652554   \n",
       "2   54.225771  54.129631      69.755980       8.109127  13.349142   \n",
       "3   54.225771  59.415758      71.951089      43.630359  62.652554   \n",
       "4   54.225771  48.212212      50.000000      68.238392  44.911560   \n",
       "\n",
       "   ENV.EFFICIENT  INVEST.ACCURATE  INVEST.PROFIT  INVEST.RETURN  \n",
       "0      87.660818        35.348026      85.924506      61.828625  \n",
       "1      81.376922        35.348026      46.837676      64.342789  \n",
       "2      19.602621        35.348026      28.431830      58.634653  \n",
       "3      48.207416        67.399219      48.599573      68.826147  \n",
       "4      54.625216        67.399219      13.970277      87.256794  \n",
       "\n",
       "[5 rows x 50 columns]"
      ]
     },
     "execution_count": 24,
     "metadata": {},
     "output_type": "execute_result"
    }
   ],
   "source": [
    "just400.head() # This shows the first 5 record in  the dataset"
   ]
  },
  {
   "cell_type": "code",
   "execution_count": 19,
   "metadata": {},
   "outputs": [
    {
     "name": "stdout",
     "output_type": "stream",
     "text": [
      "<class 'pandas.core.frame.DataFrame'>\n",
      "RangeIndex: 440 entries, 0 to 439\n",
      "Data columns (total 50 columns):\n",
      "id                 440 non-null int64\n",
      "JUST_IND           440 non-null int64\n",
      "JUST_100           440 non-null object\n",
      "WGT_SCORE          440 non-null float64\n",
      "PAY                440 non-null float64\n",
      "TREAT              440 non-null float64\n",
      "SUPPLY             440 non-null float64\n",
      "COMM               440 non-null float64\n",
      "JOBS               440 non-null float64\n",
      "PROD               440 non-null float64\n",
      "CUST               440 non-null float64\n",
      "LEAD               440 non-null float64\n",
      "ENV                440 non-null float64\n",
      "INVEST             440 non-null float64\n",
      "PAY.LIVING         440 non-null float64\n",
      "PAY.PTO            440 non-null float64\n",
      "PAY.HEALTH         440 non-null float64\n",
      "PAY.FAIR           440 non-null float64\n",
      "PAY.RETIRE         440 non-null float64\n",
      "PAY.DISC           440 non-null float64\n",
      "PAY.CEO            440 non-null float64\n",
      "TREAT.SAFE         440 non-null float64\n",
      "TREAT.WLB          440 non-null float64\n",
      "TREAT.EDU          440 non-null float64\n",
      "TREAT.DISC         440 non-null float64\n",
      "TREAT.LAYOFF       440 non-null float64\n",
      "TREAT.RESPECT      440 non-null float64\n",
      "SUPPLY.ABUSE       440 non-null float64\n",
      "SUPPLY.CONFLICT    440 non-null float64\n",
      "SUPPLY.REPRESS     440 non-null float64\n",
      "COMM.RELS          440 non-null float64\n",
      "COMM.CHARITY       440 non-null float64\n",
      "JOBS.US            440 non-null float64\n",
      "PROD.BEN           440 non-null float64\n",
      "PROD.QUAL          440 non-null float64\n",
      "CUST.FAIR          440 non-null float64\n",
      "CUST.RELS          440 non-null float64\n",
      "CUST.DISC          440 non-null int64\n",
      "CUST.PRIV          440 non-null float64\n",
      "LEAD.LAWS          440 non-null float64\n",
      "LEAD.INTEGRITY     440 non-null float64\n",
      "LEAD.TRUTH         440 non-null float64\n",
      "LEAD.TAX           440 non-null float64\n",
      "LEAD.POLITICS      440 non-null float64\n",
      "ENV.POLLUTION      440 non-null float64\n",
      "ENV.MGMT           440 non-null float64\n",
      "ENV.EFFICIENT      440 non-null float64\n",
      "INVEST.ACCURATE    440 non-null float64\n",
      "INVEST.PROFIT      440 non-null float64\n",
      "INVEST.RETURN      440 non-null float64\n",
      "dtypes: float64(46), int64(3), object(1)\n",
      "memory usage: 172.0+ KB\n"
     ]
    }
   ],
   "source": [
    "just400.info() #showing the feautures in the dataset"
   ]
  },
  {
   "cell_type": "code",
   "execution_count": 92,
   "metadata": {},
   "outputs": [
    {
     "data": {
      "text/plain": [
       "Text(0.5,1,'Ratio of the companies in the top 100 to the ones not in the top 100')"
      ]
     },
     "execution_count": 92,
     "metadata": {},
     "output_type": "execute_result"
    },
    {
     "data": {
      "image/png": "[encoded data removed]",
      "text/plain": [
       "<matplotlib.figure.Figure at 0xe013f1908>"
      ]
     },
     "metadata": {},
     "output_type": "display_data"
    }
   ],
   "source": [
    "#A graph showing the ratio between the companies in the top 100 and the ones not in the top 100\n",
    "plt.hist(just400[\"JUST_100\"], bins= 3)\n",
    "plt.xlabel(\"Figure 1: Comapnies in just100 are termed yes, while the ones not in the just100 are termed No\")\n",
    "plt.ylabel(\"No of companies\")\n",
    "plt.title(\"Ratio of the companies in the top 100 to the ones not in the top 100\")"
   ]
  },
  {
   "cell_type": "markdown",
   "metadata": {},
   "source": [
    "### Results\n",
    "* The above graph shows the ratio between the companies in the top 100 to the ones not in the top 100. "
   ]
  },
  {
   "cell_type": "code",
   "execution_count": 28,
   "metadata": {},
   "outputs": [],
   "source": [
    "# This selects the companies within the just100 ranking\n",
    "just100=just400[just400[\"JUST_100\"] == \"Yes\"]"
   ]
  },
  {
   "cell_type": "code",
   "execution_count": 51,
   "metadata": {},
   "outputs": [],
   "source": [
    "# This selects the companies not within the just100 ranking\n",
    "notjust100=just400[just400[\"JUST_100\"] == \"No\"]"
   ]
  },
  {
   "cell_type": "code",
   "execution_count": 65,
   "metadata": {},
   "outputs": [
    {
     "data": {
      "text/plain": [
       "PAY       59.761003\n",
       "TREAT     63.612688\n",
       "SUPPLY    54.031028\n",
       "COMM      56.817025\n",
       "JOBS      54.266287\n",
       "PROD      56.978293\n",
       "CUST      49.864141\n",
       "LEAD      54.215898\n",
       "ENV       51.325333\n",
       "INVEST    51.842142\n",
       "dtype: float64"
      ]
     },
     "execution_count": 65,
     "metadata": {},
     "output_type": "execute_result"
    }
   ],
   "source": [
    "# This calculates the average score of companies within the just100 ranking with respect to the rating components\n",
    "meanJust100[\"Mean_Score\"]=just100[[\"PAY\",\"TREAT\", \"SUPPLY\", \"COMM\", 'JOBS', 'PROD', 'CUST', 'LEAD', 'ENV', 'INVEST' ]].mean()\n",
    "meanJust100[\"Mean_Score\"]"
   ]
  },
  {
   "cell_type": "code",
   "execution_count": 66,
   "metadata": {},
   "outputs": [
    {
     "data": {
      "text/plain": [
       "PAY       53.694197\n",
       "TREAT     54.053047\n",
       "SUPPLY    50.877716\n",
       "COMM      51.970680\n",
       "JOBS      51.660753\n",
       "PROD      50.728289\n",
       "CUST      50.762754\n",
       "LEAD      52.268356\n",
       "ENV       50.791910\n",
       "INVEST    52.478144\n",
       "dtype: float64"
      ]
     },
     "execution_count": 66,
     "metadata": {},
     "output_type": "execute_result"
    }
   ],
   "source": [
    "# This calculates the average score of companies not within the just100 ranking with respect to the rating components\n",
    "meanJust100[\"avgMean_ScoreNot100\"]= notjust100[[\"PAY\",\"TREAT\", \"SUPPLY\", \"COMM\", 'JOBS', 'PROD', 'CUST', 'LEAD', 'ENV', 'INVEST' ]].mean()\n",
    "meanJust100[\"avgMean_ScoreNot100\"]"
   ]
  },
  {
   "cell_type": "code",
   "execution_count": 89,
   "metadata": {},
   "outputs": [
    {
     "data": {
      "text/plain": [
       "Text(0.5,1,'Figure 2: A PLOT SHOWING THE COMPONENTS WITH THE HIGHEST SCORE WITHIN COMAPANIES IN JUST100')"
      ]
     },
     "execution_count": 89,
     "metadata": {},
     "output_type": "execute_result"
    },
    {
     "data": {
      "image/png": "[encoded data removed]",
      "text/plain": [
       "<matplotlib.figure.Figure at 0xe7ffdb358>"
      ]
     },
     "metadata": {},
     "output_type": "display_data"
    }
   ],
   "source": [
    "# This shows a plot of average score of companies within the just100 ranking with respect to the rating components\n",
    "\n",
    "x = [\"PAY\", \"TREAT\", \"SUPPLY\", \"COMM\",  \"JOBS\" , \"PROD\", \"CUST\", \"LEAD\", \"ENV\", \"INVEST\"]    \n",
    "y = meanJust100[\"Mean_Score\"]\n",
    "\n",
    "fig = plt.figure()\n",
    "axes = fig.add_axes([1,1,2,1])\n",
    "axes.bar(x,y)\n",
    "plt.xlabel(\"Components  \")\n",
    "plt.ylabel(\"AVERAGE SCORE OF EACH COMPANY WITH RESPECT TO THE \")\n",
    "plt.title(\"Figure 2: A PLOT SHOWING THE COMPONENTS WITH THE HIGHEST SCORE WITHIN COMAPANIES IN JUST100\")"
   ]
  },
  {
   "cell_type": "markdown",
   "metadata": {},
   "source": [
    "### Result\n",
    "#### The histogram above shows that the components with the highest score which are Treat with a score of 63.6., Pay with a score of 59.8 and Prod with a score of 56.9.\n",
    "*This implies that if the companies with low ranking can improve on these three components there is a possibility to be part of the just100. As given in the data description these three component can be further explained as follows:*\n",
    "\n",
    "*1. Treat : This implies a company's Commitment to Work-Life Balance, and Does Not Discriminate in Hiring, Firing and Promotion Practices.*\n",
    "\n",
    "*2. Pay: This implies workers pay and benefits*\n",
    "\n",
    "*3. Prod: Commitment to Producing Beneficial and Non-Harmful Products*\n"
   ]
  },
  {
   "cell_type": "code",
   "execution_count": 94,
   "metadata": {},
   "outputs": [
    {
     "name": "stderr",
     "output_type": "stream",
     "text": [
      "C:\\Users\\IBK\\Anaconda3\\lib\\site-packages\\numpy\\core\\fromnumeric.py:52: FutureWarning: reshape is deprecated and will raise in a subsequent release. Please use .values.reshape(...) instead\n",
      "  return getattr(obj, method)(*args, **kwds)\n"
     ]
    },
    {
     "data": {
      "text/plain": [
       "Text(0.5,1,'Figure 3: A box plot showing the minimum score, maximum score and average score of the top 400 companies ')"
      ]
     },
     "execution_count": 94,
     "metadata": {},
     "output_type": "execute_result"
    },
    {
     "data": {
      "image/png": "[encoded data removed]",
      "text/plain": [
       "<matplotlib.figure.Figure at 0xe01428f28>"
      ]
     },
     "metadata": {},
     "output_type": "display_data"
    }
   ],
   "source": [
    "#A box plot showing the comparison between the companies in the top 100 and the ones not in the top 100 \n",
    "data = meanJust100[[\"Mean_Score\", \"avgMean_ScoreNot100\"]]\n",
    "plt.boxplot(data,vert=True,patch_artist=True)\n",
    "plt.xlabel(\"Yes and No\")\n",
    "plt.ylabel(\"Average score of Companies within Top 400\")\n",
    "plt.title(\"Figure 3: A box plot showing the minimum score, maximum score and average score of the top 400 companies \")"
   ]
  },
  {
   "cell_type": "markdown",
   "metadata": {},
   "source": [
    "#### Result\n",
    "*1. The box plot above shows the mean score of the just100 companies(denoted by 1) is 54, the maximum score is approx 64 and minimum score is below 50.*\n",
    "*2. As regards the companies not in the just100(denoted by 2), the mean score is approx 52, the maximum score is approx 54 and minimum score is above 50.*"
   ]
  },
  {
   "cell_type": "code",
   "execution_count": 69,
   "metadata": {},
   "outputs": [
    {
     "data": {
      "text/html": [
       "<div>\n",
       "<style scoped>\n",
       "    .dataframe tbody tr th:only-of-type {\n",
       "        vertical-align: middle;\n",
       "    }\n",
       "\n",
       "    .dataframe tbody tr th {\n",
       "        vertical-align: top;\n",
       "    }\n",
       "\n",
       "    .dataframe thead th {\n",
       "        text-align: right;\n",
       "    }\n",
       "</style>\n",
       "<table border=\"1\" class=\"dataframe\">\n",
       "  <thead>\n",
       "    <tr style=\"text-align: right;\">\n",
       "      <th></th>\n",
       "      <th>JUST_100</th>\n",
       "      <th>WGT_SCORE</th>\n",
       "    </tr>\n",
       "  </thead>\n",
       "  <tbody>\n",
       "    <tr>\n",
       "      <th>0</th>\n",
       "      <td>No</td>\n",
       "      <td>51.817449</td>\n",
       "    </tr>\n",
       "    <tr>\n",
       "      <th>1</th>\n",
       "      <td>Yes</td>\n",
       "      <td>60.214518</td>\n",
       "    </tr>\n",
       "    <tr>\n",
       "      <th>2</th>\n",
       "      <td>No</td>\n",
       "      <td>50.084911</td>\n",
       "    </tr>\n",
       "    <tr>\n",
       "      <th>3</th>\n",
       "      <td>No</td>\n",
       "      <td>52.567243</td>\n",
       "    </tr>\n",
       "    <tr>\n",
       "      <th>4</th>\n",
       "      <td>No</td>\n",
       "      <td>50.798780</td>\n",
       "    </tr>\n",
       "  </tbody>\n",
       "</table>\n",
       "</div>"
      ],
      "text/plain": [
       "  JUST_100  WGT_SCORE\n",
       "0       No  51.817449\n",
       "1      Yes  60.214518\n",
       "2       No  50.084911\n",
       "3       No  52.567243\n",
       "4       No  50.798780"
      ]
     },
     "execution_count": 69,
     "metadata": {},
     "output_type": "execute_result"
    }
   ],
   "source": [
    "just400[[\"JUST_100\", \"WGT_SCORE\"]].head()"
   ]
  },
  {
   "cell_type": "code",
   "execution_count": 91,
   "metadata": {},
   "outputs": [
    {
     "data": {
      "text/plain": [
       "Text(0.5,1,'Figure 4: Graph showing the number of companies in justTop100 and those not in justTop100')"
      ]
     },
     "execution_count": 91,
     "metadata": {},
     "output_type": "execute_result"
    },
    {
     "data": {
      "image/png": "[encoded data removed]",
      "text/plain": [
       "<matplotlib.figure.Figure at 0xe011a6e48>"
      ]
     },
     "metadata": {},
     "output_type": "display_data"
    }
   ],
   "source": [
    "sns.swarmplot(x= \"JUST_100\", y= \"WGT_SCORE\", data= just400)\n",
    "plt.xlabel(\"Yes implies companies in justTop 100 and No implies companies not in justTop 100\")\n",
    "plt.ylabel(\"Rating Weight Score\")\n",
    "plt.title(\"Figure 4: Graph showing the number of companies in justTop100 and those not in justTop100\")\n"
   ]
  },
  {
   "cell_type": "markdown",
   "metadata": {},
   "source": [
    "### Results\n",
    "##### *1. This  is a swarm plot showing the relationship between companies ranked in just100 i.e the Top 100 companies and the companies not in the rank with respect to their weight score. Less companies are found within the just100 compared to the those not in the just 100. *\n",
    "##### *2. The plot also shows that companies in just100 has a maximum just scale of 64points and minimum of 52 points.*\n",
    "##### *3. There should be a higher competition between companies so that there will be an increase in the maximum just scale, which is 64points in line with the plot in fig 4 .*"
   ]
  },
  {
   "cell_type": "code",
   "execution_count": null,
   "metadata": {},
   "outputs": [],
   "source": []
  }
 ],
 "metadata": {
  "kernelspec": {
   "display_name": "Python 3",
   "language": "python",
   "name": "python3"
  },
  "language_info": {
   "codemirror_mode": {
    "name": "ipython",
    "version": 3
   },
   "file_extension": ".py",
   "mimetype": "text/x-python",
   "name": "python",
   "nbconvert_exporter": "python",
   "pygments_lexer": "ipython3",
   "version": "3.6.4"
  }
 },
 "nbformat": 4,
 "nbformat_minor": 2
}
